{
 "cells": [
  {
   "cell_type": "markdown",
   "metadata": {},
   "source": [
    "# 現代制御\n",
    "## Topics\n",
    "* システムの状態方程式表現\n",
    "* 状態遷移行列\n",
    "* 安定性\n",
    "* 可制御性\n",
    "* 可観測性\n",
    "* フィードバック\n",
    "* 最適レギュレータ\n",
    "* サーボ系\n",
    "* オブザーバ"
   ]
  },
  {
   "cell_type": "markdown",
   "metadata": {},
   "source": [
    "## システムの状態方程式表現\n",
    "状態，入力，出力ベクトルはそれぞれ, $x(t) \\in R^n, u(t) \\in R^m, y(t) \\in R^r$ とし，\n",
    "定数行列$A \\in R^{n\\times n}, B \\in R^{n\\times m}, C \\in R^{r\\times n}$によって，次のような線形システムが表現される．\n",
    "\n",
    "$$\n",
    "\\begin{array}\n",
    "%%\\dot{x} &= Ax(t) + Bu(t) \\\\\n",
    "\\frac{dx}{dt} &= Ax(t) + Bu(t) \\\\\n",
    "y &= Cx(t)\n",
    "\\end{array}\n",
    "$$\n"
   ]
  },
  {
   "cell_type": "code",
   "execution_count": 5,
   "metadata": {},
   "outputs": [],
   "source": [
    "import numpy as np\n",
    "class LinearSystem:\n",
    "    def __init__(self, A, B, C):\n",
    "        self.A = A\n",
    "        self.B = B\n",
    "        self.C = C\n",
    "        \n",
    "    def dot(self, x, u):\n",
    "        return self.A*x + self.B*u\n",
    "    \n",
    "    def output(self, x):\n",
    "        return self.C*x\n",
    "    \n",
    "\n",
    "        "
   ]
  },
  {
   "cell_type": "markdown",
   "metadata": {},
   "source": [
    "## 状態遷移行列\n",
    "行列指数関数$e^{At}$を状態遷移行列と呼ぶ．その定義は，\n",
    "$$\n",
    "e^{At} = I + At + \\frac{1}{2!}A^2t^2 + \\cdots + \\frac{1}{k!}A^kt^k + \\cdots\n",
    "$$\n",
    "となる．状態遷移行列を得る主な方法はラプラス逆変換によるものである．"
   ]
  },
  {
   "cell_type": "markdown",
   "metadata": {},
   "source": [
    "## 安定性\n",
    "正方行列$A \\in R^{n\\times n}$の固有値$\\lambda \\in C$, 固有ベクトル$v \\in R^n$は以下の式を満たす．\n",
    "$$\n",
    "Av_i = \\lambda_i, i = 1, 2, \\cdots, n\n",
    "$$\n",
    "\n",
    "固有値$\\lambda_i$の実部が全て負であるとき，そのシステムは安定である．"
   ]
  },
  {
   "cell_type": "markdown",
   "metadata": {},
   "source": [
    "## 可制御性\n",
    "システムが可制御であることの必要十分条件は，可制御性行列$U_c \\in R^{n\\times nm}$のランクがシステムの次元nと等しくなることである．\n",
    "$$\n",
    "U_c = [B\\quad AB\\quad A^2B\\quad \\cdots\\quad A^{n-1}B]\n",
    "$$"
   ]
  },
  {
   "cell_type": "markdown",
   "metadata": {},
   "source": [
    "## 可観測性 \n",
    "システムが可観測であることの必要十分条件は，可観測性行列$U_o \\in R^{rn\\times n}$のランクがシステムの次元nと等しくなることである．\n",
    "$$\n",
    "U_o = \\left[\n",
    "\\begin{array}\n",
    "CA\\\\\n",
    "CA^2\\\\\n",
    "\\vdots\\\\\n",
    "CA^{n-1}\n",
    "\\end{array}\n",
    "\\right]\n",
    "$$"
   ]
  },
  {
   "cell_type": "markdown",
   "metadata": {},
   "source": [
    "## フィードバック \n",
    "状態変数を入力にフィードバックさせることによる，\n",
    "* 応答に関わるシステムの極を変更する極配置法\n",
    "* 状態変数をゼロに整定させるレギュレータ\n",
    "* 目標値に出力を追従させるサーボ系\n",
    "といった制御系を構築するための手法が存在する．\n",
    "\n",
    "状態変数を入力にフィードバックさせるとは，以下のようにフィードバック係数$F \\in R^{m\\times n}$により，入力を決定することを指す．\n",
    "$$\n",
    "u(t) = -Fx(t)\n",
    "$$"
   ]
  },
  {
   "cell_type": "markdown",
   "metadata": {},
   "source": [
    "## 最適レギュレータ\n",
    "評価関数$J$を定義して，リカッチ代数方程式を解くことで，応答と操作量のトレードオフの関係で妥当なフィードバック係数を得る．\n",
    "$$\n",
    "J = \\frac{1}{2}\\int^\\infty_0 \\left\\{x^T(t)Qx(t) + u^T(t)Ru(t) \\right\\}dt\n",
    "$$\n",
    "$Q$は半正定対称行列，$R$は正定対称行列とされ，試行錯誤的に設定される．($Q$, $R$と応答との具体的な関係に非解明な部分？)\n",
    "\n",
    "この評価関数を最小にするには，以下のリカッチ代数方程式の解$P \\in R^{n\\times n}$を用いた状態フィードバック制御を行えば良い．\n",
    "$$\n",
    "A^{T}P + PA + Q -PBR^{-1}B^{T}P = 0\n",
    "$$\n",
    "$P$による状態フィードバック制御は，\n",
    "$$\n",
    "u(t) = -Fx(t) = -R^{-1}B^{T}Px(t)\n",
    "$$\n",
    "となる．"
   ]
  },
  {
   "cell_type": "markdown",
   "metadata": {},
   "source": [
    "## サーボ系 \n",
    "サーボ系とは与えられた目標値に対して，定常偏差がゼロになるような出力を生成させるための誤差システム"
   ]
  },
  {
   "cell_type": "markdown",
   "metadata": {},
   "source": [
    "## オブザーバ \n",
    "状態フィードバックの際には，当然ながら状態変数$x$が必要となる．\n",
    "しかし，状態変数ベクトル$x$の内，全ての要素が直接観測(例えばセンサなどで読み取る)可能とは限らない．\n",
    "モデル化されたシステム，即ち状態方程式を用いて，システムが制御されている様子をシミュレートすることで，\n",
    "直接観測できない状態変数の要素を推定することができる．\n",
    "全状態を推定するオブザーバと状態のある部分要素のみを推定するオブザーバがある．"
   ]
  }
 ],
 "metadata": {
  "kernelspec": {
   "display_name": "Python 3",
   "language": "python",
   "name": "python3"
  },
  "language_info": {
   "codemirror_mode": {
    "name": "ipython",
    "version": 3
   },
   "file_extension": ".py",
   "mimetype": "text/x-python",
   "name": "python",
   "nbconvert_exporter": "python",
   "pygments_lexer": "ipython3",
   "version": "3.5.2"
  }
 },
 "nbformat": 4,
 "nbformat_minor": 2
}
